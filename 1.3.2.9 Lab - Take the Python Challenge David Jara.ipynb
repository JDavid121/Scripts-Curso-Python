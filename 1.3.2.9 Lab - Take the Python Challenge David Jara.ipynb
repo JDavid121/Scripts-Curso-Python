{
 "cells": [
  {
   "cell_type": "markdown",
   "metadata": {},
   "source": [
    "![Título](Images/cisco.png)"
   ]
  },
  {
   "cell_type": "markdown",
   "metadata": {},
   "source": [
    "Curso CEC Python."
   ]
  },
  {
   "cell_type": "markdown",
   "metadata": {},
   "source": [
    "Estudiante: David Jara. Fecha de entrega: 1 de febrero de 2020"
   ]
  },
  {
   "cell_type": "markdown",
   "metadata": {},
   "source": [
    "# Práctica de laboratorio: Realice el desafío de Python \n",
    "\n",
    "\n",
    "Este es un ejercicio opcional para probar su conocimiento de los principios básicos de Python. Sin embargo, recomendamos fervientemente que el estudiante complete estos ejercicios para prepararse para el resto de este curso. Si no sabe cómo resolverlos, fíjese en las lecciones de Python disponibles en la carpeta de Materiales del curso/tutoriales y demostraciones."
   ]
  },
  {
   "cell_type": "markdown",
   "metadata": {},
   "source": [
    "#### Responda las preguntas o complete las tareas detalladas a continuación; utilice el método específico descrito, si corresponde."
   ]
  },
  {
   "cell_type": "markdown",
   "metadata": {},
   "source": [
    "#### 1) ¿Cuánto es 3 a la potencia de 5?"
   ]
  },
  {
   "cell_type": "code",
   "execution_count": null,
   "metadata": {},
   "outputs": [],
   "source": [
    "3**5 #El operador de potenciación es **. (3**5) quiere decir 3 elevado a la 5\n",
    "print(3**5)\n"
   ]
  },
  {
   "cell_type": "markdown",
   "metadata": {},
   "source": [
    "#### 2) Cree una variable, *'s'*, que contenga la cadena \"¡Este curso es increíble!\". Con la variable, divida la cadena en una lista."
   ]
  },
  {
   "cell_type": "code",
   "execution_count": null,
   "metadata": {},
   "outputs": [],
   "source": [
    "s=\"¡Este curso es increíble!\" #Asignación a la variable s de la cadena \"¡Este curso es increíble!"
   ]
  },
  {
   "cell_type": "code",
   "execution_count": null,
   "metadata": {},
   "outputs": [],
   "source": [
    "s  #Indica el valor asignado a la variable s"
   ]
  },
  {
   "cell_type": "code",
   "execution_count": null,
   "metadata": {},
   "outputs": [],
   "source": [
    "type(s) #Verifica el tipo de variable que es s"
   ]
  },
  {
   "cell_type": "code",
   "execution_count": null,
   "metadata": {},
   "outputs": [],
   "source": [
    "lst=s.split() #asigna a la variable lst el resultado de una lista en la que cada variable es una palabra de la cadena s"
   ]
  },
  {
   "cell_type": "code",
   "execution_count": null,
   "metadata": {},
   "outputs": [],
   "source": [
    "lst # Indica el valor de la variable lst"
   ]
  },
  {
   "cell_type": "code",
   "execution_count": null,
   "metadata": {},
   "outputs": [],
   "source": [
    "type(lst) #Indica el tipo de varible que es lst"
   ]
  },
  {
   "cell_type": "code",
   "execution_count": null,
   "metadata": {},
   "outputs": [],
   "source": [
    "len(lst) #número de datos de la variable lista lst"
   ]
  },
  {
   "cell_type": "code",
   "execution_count": null,
   "metadata": {},
   "outputs": [],
   "source": [
    "# Code cell 2\n",
    "#s = ?\n",
    "#?.split()"
   ]
  },
  {
   "cell_type": "markdown",
   "metadata": {},
   "source": [
    "#### 3) Dadas las variables altura y montaña, use .format() para imprimir la cadena siguiente:\n",
    "<center>‘La altura del Monte Everest es de 8848 metros’.</center>"
   ]
  },
  {
   "cell_type": "code",
   "execution_count": null,
   "metadata": {},
   "outputs": [],
   "source": [
    "# Code cell 3\n",
    "#Código de prueba.\n",
    "mountain = \"Mt. Everest\"\n",
    "height = 8848\n",
    "print(\"La altura del\",mountain,\"es de\",height,\"metros.\")\n",
    "#print(\"...\".format( ? , ? ))"
   ]
  },
  {
   "cell_type": "code",
   "execution_count": null,
   "metadata": {},
   "outputs": [],
   "source": [
    "# Code cell 3\n",
    "#Aplicación de format\n",
    "mountain = \"Mt. Everest\"\n",
    "height = 8848\n",
    "print(\"La altura del {} es de {} metros.\".format(mountain,height))\n",
    "#print(\"...\".format( ? , ? ))"
   ]
  },
  {
   "cell_type": "markdown",
   "metadata": {},
   "source": [
    "#### 4) Dada la lista anidada siguiente, use la indexación para tomar la palabra '\"esto\"'."
   ]
  },
  {
   "cell_type": "code",
   "execution_count": null,
   "metadata": {},
   "outputs": [],
   "source": [
    "# Code cell 4\n",
    "lst = ['a','b',[4,10,11],['c',[1,66,['this']],2,111],'e',7]\n",
    "#lst[?][?][?][?]"
   ]
  },
  {
   "cell_type": "code",
   "execution_count": null,
   "metadata": {},
   "outputs": [],
   "source": [
    "a=lst\n",
    "print(a)"
   ]
  },
  {
   "cell_type": "code",
   "execution_count": null,
   "metadata": {},
   "outputs": [],
   "source": [
    "lst[3][1][2]"
   ]
  },
  {
   "cell_type": "markdown",
   "metadata": {},
   "source": [
    "#### 5) Dado el diccionario anidado siguiente, tome la palabra \"eso\". Este ejercicio es un poco más difícil."
   ]
  },
  {
   "cell_type": "code",
   "execution_count": null,
   "metadata": {},
   "outputs": [],
   "source": [
    "# Code cell 5\n",
    "d = {'k1':['val1','val2','val3',{'we':['need','to','go',{'deeper':[1,2,3,'that']}]}]}\n",
    "#d[?][?][?][?][?][?]"
   ]
  },
  {
   "cell_type": "code",
   "execution_count": null,
   "metadata": {},
   "outputs": [],
   "source": [
    "print(d) #Impresión del diccionario anidado"
   ]
  },
  {
   "cell_type": "code",
   "execution_count": null,
   "metadata": {},
   "outputs": [],
   "source": [
    "d[\"k1\"][3][\"we\"][3][\"deeper\"][3] #Se imprime cada sección hasta hallar a \"that\""
   ]
  },
  {
   "cell_type": "markdown",
   "metadata": {},
   "source": [
    "#### 6) ¿Cuál es la diferencia principal entre una tupla y una lista? "
   ]
  },
  {
   "cell_type": "markdown",
   "metadata": {
    "collapsed": true
   },
   "source": [
    "Una tupla es una variable que permite guardar varios datos inmutables (no pueden ser modificados una vez creados) de tipos diferentes. Una lista es una variable que, a diferencia de una tupla, permite modificar los datos una vez creados."
   ]
  },
  {
   "cell_type": "markdown",
   "metadata": {},
   "source": [
    "#### 7) Cree una función, GetDomain(), que tome el dominio del sitio web de correo electrónico de una cadena en la forma: 'user@domain.com'.\n",
    "Por ejemplo, el paso de \"user@domain.com\" daría: domain.com"
   ]
  },
  {
   "cell_type": "code",
   "execution_count": null,
   "metadata": {},
   "outputs": [],
   "source": [
    "# Code cell 6\n",
    "#def GetDomain(?):\n",
    "#    return ?.?()[-1]\n",
    "GetDomain('user@domain.com')"
   ]
  },
  {
   "cell_type": "code",
   "execution_count": null,
   "metadata": {},
   "outputs": [],
   "source": [
    "domain=\"user@domain.com\"\n",
    "x=domain.split(\"@\") #Con split dividimos un string en una lista de 2 strings separados por \"@\"\n",
    "print(x)"
   ]
  },
  {
   "cell_type": "code",
   "execution_count": null,
   "metadata": {},
   "outputs": [],
   "source": [
    "def GetDomain(e_mail):            #Creación de la función GetDomain.\n",
    "    domain=e_mail.split(\"@\")      #Creación de una lista domain a partir del string: e_mail.\n",
    "    print(domain[1])              #Imprimimos el valor [1] de la lista domain.\n",
    "    return domain[1]\n",
    "    "
   ]
  },
  {
   "cell_type": "code",
   "execution_count": null,
   "metadata": {},
   "outputs": [],
   "source": [
    "GetDomain(\"user@domain.com\")"
   ]
  },
  {
   "cell_type": "code",
   "execution_count": null,
   "metadata": {},
   "outputs": [],
   "source": [
    "GetDomain(\"snippet@hotmail.com\")"
   ]
  },
  {
   "cell_type": "markdown",
   "metadata": {},
   "source": [
    "#### 8) Cree una función básica, findInternet(), que dé una devolución de True si la palabra 'Internet' se incluye en la cadena de entrada. No se preocupe por los casos de perímetro como la puntuación que se asocia con la palabra, pero tenga en cuenta el uso de mayúsculas. (Sugerencia: vea https://docs.python.org/2/reference/expressions.html#in)"
   ]
  },
  {
   "cell_type": "code",
   "execution_count": null,
   "metadata": {},
   "outputs": [],
   "source": [
    "# Code cell 7\n",
    "#def findInternet(?):\n",
    "    #return 'internet' in ?.lower().split()\n",
    "findInternet('The Internet Engineering Task Force was created in 1986')"
   ]
  },
  {
   "cell_type": "code",
   "execution_count": null,
   "metadata": {},
   "outputs": [],
   "source": [
    "def findInternet(string_in):\n",
    "    #string_in=\"The Internet Engineering Task Force was created in 1986\"\n",
    "    string_list = string_in.split()\n",
    "    #print(string_list)\n",
    "    string_res = \"Internet\" in string_list #Busca la palabra \"Internet\" en la var string_list. Si la encuentra \n",
    "    # pone el valor de string_res = True\n",
    "    return string_res"
   ]
  },
  {
   "cell_type": "code",
   "execution_count": null,
   "metadata": {},
   "outputs": [],
   "source": [
    "findInternet(\"The Internet Engineering Task Force was created in 1986\")"
   ]
  },
  {
   "cell_type": "code",
   "execution_count": null,
   "metadata": {},
   "outputs": [],
   "source": [
    "findInternet(\"The Arpha Engineering Task Force was created in 1986\")"
   ]
  },
  {
   "cell_type": "code",
   "execution_count": null,
   "metadata": {},
   "outputs": [],
   "source": [
    "findInternet(\"The internet Engineering Task Force was created in 1986\")"
   ]
  },
  {
   "cell_type": "markdown",
   "metadata": {},
   "source": [
    "#### 9) Cree una función, countIoT(), que cuente la cantidad de veces que la palabra \"IdT\" aparece en una cadena.  Ignore los casos de perímetro pero tenga en cuenta el uso de mayúsculas."
   ]
  },
  {
   "cell_type": "code",
   "execution_count": null,
   "metadata": {},
   "outputs": [],
   "source": [
    "# Code cell 8\n",
    "#def countIoT(st):\n",
    "#    \n",
    "#\n",
    "#\n",
    "#\n",
    "#    return count\n",
    "countIoT('I don\\'t know how to spell IoT ! Is it IoT or iot ? What does iot mean anyway?')"
   ]
  },
  {
   "cell_type": "code",
   "execution_count": null,
   "metadata": {},
   "outputs": [],
   "source": [
    "def countIoT(chain_str): #Función que cuenta la cantidad de veces que se repite IoT en una cadena\n",
    "    chain_list = chain_str.split() #Función que crea una lista a partir del string chain_str\n",
    "    a=len(chain_list) #Datos de la var chain_list.\n",
    "    k = 0 #Definimos un contador para evaluar la cantidad de veces de la palabra IoT en chain_str\n",
    "    for i in range(0,a-1,1): #Evaluamos los datos uno por uno de la lista chain_list\n",
    "        if chain_list[i] == \"IoT\":\n",
    "            k=k+1\n",
    "    print(k)\n",
    "    return k\n",
    "    \n",
    "    \n",
    "    "
   ]
  },
  {
   "cell_type": "code",
   "execution_count": null,
   "metadata": {},
   "outputs": [],
   "source": [
    "countIoT('I don\\'t know how to spell IoT ! Is it IoT or iot ? What does iot mean anyway?')"
   ]
  },
  {
   "cell_type": "code",
   "execution_count": null,
   "metadata": {},
   "outputs": [],
   "source": [
    "countIoT(\"I don\\'t know how to spell IoT ! Is it IoT or IoT ? What does IoT mean anyway?\")"
   ]
  },
  {
   "cell_type": "code",
   "execution_count": null,
   "metadata": {},
   "outputs": [],
   "source": [
    "countIoT(\"I don\\'t know how to spell ioT ! Is it Iot or iot ? What does iOt mean anyway?\")"
   ]
  },
  {
   "cell_type": "markdown",
   "metadata": {},
   "source": [
    "#### 10) Utilice las expresiones lambda y la función filter() para filtrar las palabras de una lista que no comiencen con la letra 'd'. Por ejemplo:\n",
    "\n",
    "    sec = [“datos”, “sal”, “diario”, “gato”, “perro”]\n",
    "\n",
    "debe ser filtrado a:\n",
    "\n",
    "    ['datos', 'diario']"
   ]
  },
  {
   "cell_type": "code",
   "execution_count": null,
   "metadata": {},
   "outputs": [],
   "source": [
    "# Code cell 9\n",
    "seq = ['data','salt' ,'dairy','cat', 'dog']\n",
    "#list(filter(...))\n"
   ]
  },
  {
   "cell_type": "code",
   "execution_count": null,
   "metadata": {},
   "outputs": [],
   "source": [
    "#La función filter necesita de una función y de una lista a ser filtrada\n",
    "seq = ['data','salt' ,'dairy','cat', 'dog'] #lista a ser filtrada.\n",
    "def buscar(palabra):    #Función que busca la letra d en cada elemento de la lista\n",
    "    if \"d\" in palabra:\n",
    "        return True\n",
    "    else:\n",
    "        return False\n",
    "palabras_filtradas = filter(buscar,seq) #Aplicación de la función filter\n",
    "print(list(palabras_filtradas))\n",
    "\n",
    "    "
   ]
  },
  {
   "cell_type": "code",
   "execution_count": null,
   "metadata": {},
   "outputs": [],
   "source": [
    "# Utilizando funciones lambda\n",
    "seq = ['data','salt' ,'dairy','cat', 'dog'] #Lista a ser filtrada\n",
    "palabras_filtradas = filter(lambda x : \"d\" in x,seq) #La función lambda da True si d esta en x\n",
    "print(list(palabras_filtradas)) #Imprime una lista hecha con el resultado de filter.\n"
   ]
  },
  {
   "cell_type": "markdown",
   "metadata": {},
   "source": [
    "#### 11) Utilice las expresiones lambda y la función map() para convertir una lista de palabras a mayúsculas. Por ejemplo:"
   ]
  },
  {
   "cell_type": "markdown",
   "metadata": {},
   "source": [
    "sec = [“datos”, “sal”, “diario”, “gato”, “perro”]\n",
    "\n",
    "debe ser:\n",
    "\n",
    "   [“DATOS”, “SAL”, “DIARIO”, “GATO”, “PERRO”]"
   ]
  },
  {
   "cell_type": "code",
   "execution_count": null,
   "metadata": {},
   "outputs": [],
   "source": [
    "#Programa que transforma una lista de strings de minusculas a mayúsculas\n",
    "#Utilizando funciones lambda y la función map()\n",
    "print(\"*****************************************************************\")\n",
    "sec = [\"datos\", \"sal\", \"diario\", \"gato\", \"perro\"] #Lista a evaluar\n",
    "print(sec)\n",
    "print(\"*****************************************************************\")\n",
    "#Definicón de la función lambda a utilizar:\n",
    "y=lambda x:x.upper() #Tomará cada string de la var sec y lo transforma a mayúsculas.\n",
    "\n",
    "ne_sec=map(y,sec) #evalúa cada dato de la variable lista sec y aplica en cada uno\n",
    "                  #la función y = lambda x:x.upper()\n",
    "\n",
    "new_sec=list(ne_sec) #crea una lista con el resultado de la var ne_sec\n",
    "print(new_sec)\n",
    "print(\"*****************************************************************\")\n"
   ]
  },
  {
   "cell_type": "code",
   "execution_count": null,
   "metadata": {},
   "outputs": [],
   "source": [
    "# PROGRAMA que descompone cada string en una lista de caracteres, para luego transformarlos de minúsculas a mayúsculas\n",
    "# luego reúne los caracteres en mayúsculas en strings y los guarda en una lista de strings\n",
    "\n",
    "#1.0 #Transformar la lista de palabras en una sublista de caracteres\n",
    "\n",
    "# FUNCION QUE SEPARA VARIABLES STRING EN LETRAS \n",
    "def palab_letras (palabras):\n",
    "    resultado = map(list,palabras)\n",
    "    return list(resultado)\n",
    "\n",
    "\n",
    "#2.0 FUNCIÓN QUE TRANSFORMA una lista de letras MINUSCULAS A MAYÚSCULAS\n",
    "def min_to_may (list1):\n",
    "    b=[] #lista vacía\n",
    "    for i in list1:\n",
    "        b.append(i.upper())\n",
    "    return b\n",
    "\n",
    "#3.0 FUNCIÓN QUE CONCATENA una lista de LETRAS MAYÚSCULAS a STRING\n",
    "def let_palabra(lista_palabra):\n",
    "    #lista_palabra: variable lista que almacena una palabra.\n",
    "    c=\"\" # string resultado\n",
    "    for i in lista_palabra:\n",
    "        c = c+i\n",
    "    return c\n",
    "\n",
    "# Programa principal\n",
    "# Evaluación de la lista:\n",
    "sec = [\"datos\", \"sal\", \"diario\", \"gato\", \"perro\"]\n",
    "print(sec)\n",
    "print(\"****************************************************************\")\n",
    "\n",
    "# Transformamos la lista de palabras a una lista con sublistas de letras\n",
    "\n",
    "uu = palab_letras (sec) #u: Lista que contiene las sublistas de letras.\n",
    "print(uu)\n",
    "print(\"****************************************************************\")\n",
    "\n",
    "# Transformamos cada sublista en mayúsculas\n",
    "cc=[] #cc: lista de resultado.\n",
    "for i in uu:\n",
    "    cc.append(min_to_may(i))\n",
    "print(cc)\n",
    "print(\"*******************************************************************\")\n",
    "# Transformamos cada sublista en un string y creamos una lista de string\n",
    "dd=[] #dd: lista de strings de resultado.\n",
    "for i in cc:\n",
    "    dd.append(let_palabra(i))\n",
    "print(dd)\n"
   ]
  },
  {
   "cell_type": "markdown",
   "metadata": {},
   "source": [
    "#### 12) Imagine un termostato inteligente conectado a la puerta que pueda detectar, además de la temperatura, el momento en el que las personas entran o salen de la casa. \n",
    "Escriba una función que, cuando la temperatura sea inferior a 20 ºC y haya personas en la casa (codificado como valor booleano que se envía como parámetro a la función), inicie la calefacción mediante la devolución de la cadena \"calefacción encendida\". Cuando la temperatura llegue a 23 grados o no haya personas en la casa, la función devuelve la cadena \"calefacción apagada\". Cuando no se cumpla ninguna de estas condiciones, la función es \"No hacer nada\"."
   ]
  },
  {
   "cell_type": "code",
   "execution_count": null,
   "metadata": {},
   "outputs": [],
   "source": [
    "# Code cell 11\n",
    "#def smart_thermostat(temp, people_in):\n",
    "#    ...\n",
    "#    return command\n",
    "def smart_thermostat(temp, people_in): #Función termostato inteligente\n",
    "    \n",
    "    if people_in == True:\n",
    "        if temp <20:   \n",
    "            return \"Calefacción Encendida\"\n",
    "        if temp >= 23: #Indica que ya se pasó a calefacción apagada\n",
    "            return \"Calefacción Apagada\"\n",
    "        else:\n",
    "            return \"No Hacer Nada\"\n",
    "    if people_in == False:\n",
    "        return \"Calefacción Apagada\""
   ]
  },
  {
   "cell_type": "code",
   "execution_count": null,
   "metadata": {},
   "outputs": [],
   "source": [
    "# Code cell 12\n",
    "# Verify smart_thermostat()\n",
    "smart_thermostat(21,True)"
   ]
  },
  {
   "cell_type": "code",
   "execution_count": null,
   "metadata": {},
   "outputs": [],
   "source": [
    "# Code cell 13\n",
    "# Verify smart_thermostat()\n",
    "smart_thermostat(21,False)"
   ]
  },
  {
   "cell_type": "markdown",
   "metadata": {},
   "source": [
    "#### 13) La función zip(list1, list2) devuelve una lista de tuplas, donde la tupla i-th contiene el elemento i-th de cada una de las listas de argumento. Utilice la función zip para crear la siguiente lista de tuplas:"
   ]
  },
  {
   "cell_type": "markdown",
   "metadata": {},
   "source": [
    "'comprimido = [(“Estacionamiento”, -1), (“Negocios”, 0), (“Área de restaurantes”, 1), (“oficinas”, 2)]'"
   ]
  },
  {
   "cell_type": "code",
   "execution_count": null,
   "metadata": {},
   "outputs": [],
   "source": [
    "# Code cell 14\n",
    "floor_types = ['Parking', 'Shops', 'Food Court', 'Offices']\n",
    "floor_numbers = range(-1,3)\n",
    "#zipped = list(...) \n",
    "print(zipped)"
   ]
  },
  {
   "cell_type": "code",
   "execution_count": null,
   "metadata": {},
   "outputs": [],
   "source": [
    "floor_types = ['Parking', 'Shops', 'Food Court', 'Offices']\n",
    "floor_numbers = range(-1,3)\n",
    "\n",
    "#Función que toma cada elemento de a y lo transforma en una lista de un único elemento.\n",
    "def un_lis (element):\n",
    "    c0=[]\n",
    "    c0.append(element)\n",
    "    return c0\n",
    "#Función que devuelve una lista de tuplas\n",
    "def zipped(list1,list2):\n",
    "    alist=[] #Lista que contiene sublistas de list1\n",
    "    blist=[] #Lista de resultados\n",
    "#******************************************************\n",
    "\n",
    "    for i in list1:                 # Crea una lista cuyos elementos son listas unitarias de list1\n",
    "        alist.append(un_lis(i))     # alist = [['Parking'], ['Shops'], ['Food Court'], ['Offices']]\n",
    "        #print(alist)\n",
    "\n",
    "#*******************************************************\n",
    "    # 2.0 Creamos una lista con los datos unitarios de alist y los datos de la list2\n",
    "    for i in range (0,len(alist),1): #Evaluamos cada elemento de la lista alist\n",
    "        c = alist[i]    #Tomamos el elemento i = 0 de alist\n",
    "        c.append(list2[i])  #Tomamos el elemento list2[0] y lo ingresamos en alist[0]\n",
    "        d = tuple(c)    #Creamos una tupla con los datos de c\n",
    "        blist.append(d) #Creamos una lista con las tuplas d\n",
    "    print(blist) #blist es el resultado blist = [('Parking', -1), ('Shops', 0), ('Food Court', 1), ('Offices', 2)]\n",
    "    return blist\n",
    "\n",
    "    "
   ]
  },
  {
   "cell_type": "code",
   "execution_count": null,
   "metadata": {},
   "outputs": [],
   "source": [
    "zipped(floor_types,floor_numbers)"
   ]
  },
  {
   "cell_type": "markdown",
   "metadata": {},
   "source": [
    "#### 14) Utilice la función zip y dict() para crear un diccionario, elevator_dict, donde las teclas sean los tipos de piso y los valores sean el número correspondiente del piso, de modo que:\n",
    "elevator_dict[- 1] = “Estacionamiento”"
   ]
  },
  {
   "cell_type": "code",
   "execution_count": null,
   "metadata": {},
   "outputs": [],
   "source": [
    "# Code cell 15\n",
    "floor_types = ['Parking', 'Shops', 'Food Court', 'Offices']\n",
    "floors_numbers = range(-1,3)\n",
    "#elevator_dict = dict(...)\n",
    "print(elevator_dict)"
   ]
  },
  {
   "cell_type": "code",
   "execution_count": null,
   "metadata": {},
   "outputs": [],
   "source": [
    "# Code cell 15\n",
    "floor_types = ['Parking', 'Shops', 'Food Court', 'Offices']\n",
    "floors_numbers = range(-1,3)\n",
    "a = list(zip(floors_numbers,floor_types)) #ZIP asocia floors_numbers con floor_types 1 a 1 en forma de tuplas\n",
    "print (a)                                 #Para verlas, se requiere hacer una lista con las tuplas formadas.\n",
    "\n",
    "#dict () Crea un diccionario con las tuplas credas por zip\n",
    "#elevator_dict = {-1: 'Parking', 0: 'Shops', 1: 'Food Court', 2: 'Offices'}\n",
    "elevator_dict = dict(zip(floors_numbers,floor_types)) \n",
    "\n",
    "print(elevator_dict)"
   ]
  },
  {
   "cell_type": "code",
   "execution_count": null,
   "metadata": {},
   "outputs": [],
   "source": [
    "# Code cell 16\n",
    "# Verify elevator_dict[-1]\n",
    "elevator_dict[-1]"
   ]
  },
  {
   "cell_type": "code",
   "execution_count": null,
   "metadata": {},
   "outputs": [],
   "source": [
    "print(elevator_dict[-1])"
   ]
  },
  {
   "cell_type": "markdown",
   "metadata": {},
   "source": [
    "#### 15) Cree una clase de 'Ascensor'. El constructor acepta la lista de cadenas 'floor_types' y la lista de números enteros 'floor_numbers'. La clase implementa los métodos 'ask_which_floor' y 'go_to_floor'. La salida de estos métodos debe verse de la siguiente manera:\n",
    "`floor_types = ['Estacionamiento', 'Negocios', 'Área de restaurantes', 'Oficinas']\n",
    "floors_numbers = rango(-1,4)\n",
    "\n",
    "el = Elevador(floor_numbers, floor_types)\n",
    "\n",
    "el.go_to_floor(1)`\n",
    "\n",
    "`¡Vaya al piso del área de restaurantes!`\n",
    "\n",
    "`el.go_to_floor(-2)`\n",
    "\n",
    "`En este edificio está el piso número -2.`\n",
    "\n",
    "`El.ask_which_floor('Oficinas')`\n",
    "\n",
    "`El piso de oficinas es el número: 2`\n",
    "\n",
    "`El.ask_which_floor('Piscina')`\n",
    "\n",
    "`No hay ningún piso con piscina en este edificio.`"
   ]
  },
  {
   "cell_type": "code",
   "execution_count": 10,
   "metadata": {},
   "outputs": [
    {
     "name": "stdout",
     "output_type": "stream",
     "text": [
      "The 2 number is the floor: Oficinas.\n"
     ]
    }
   ],
   "source": [
    "\n",
    "floor_types = ['Estacionamiento', 'Negocios', 'Área de restaurantes', 'Oficinas'] \n",
    "floors_numbers = list(range(-1,4))\n",
    "floor_types\n",
    "floors_numbers\n",
    "\n",
    "# Code cell 17\n",
    "class Elevator:\n",
    "    \n",
    "    #Definición de métodos (funciones) de la clase \"Elevador\"\n",
    "    #El primer parámetro de un método siempre debe ser \"self\"\n",
    "    \n",
    "    def __init__(self, floors_numbers, floor_types):\n",
    "        self._floors_numbers = floors_numbers #Variable de entrada floors_numbers[-1,0,1,2]\n",
    "        self._floor_types = floor_types       #variable de entrada floor_types['Estacionamiento'...'Oficinas']\n",
    "        self._number_to_type_dict = dict(zip(floors_numbers, floor_types))\n",
    "                                    #{-1: 'Estacionamiento',0: 'Negocios',1: 'Área de restaurantes',2: 'Oficinas'}\n",
    "            \n",
    "        self._type_to_number_dict = dict(zip(floor_types, floors_numbers))\n",
    "                                    #{'Estacionamiento': -1,'Negocios': 0,'Área de restaurantes': 1,'Oficinas': 2}\n",
    "        \n",
    "    def ask_which_floor(self, floor_type): #Método (función) con referencia al \"piso\" del Ascensor\n",
    "                                           #Devuelve el número del piso.\n",
    "        if floor_type in self._floor_types:\n",
    "            print('The {} floor is the number: {}.'.format(floor_type, self._type_to_number_dict[floor_type]))\n",
    "        else:\n",
    "            print('There is no {} floor in this building.'.format(floor_type))\n",
    "    \n",
    "    def go_to_floor(self, floors_numbers): #Método con referencia al número del piso del Ascensor.\n",
    "        if floors_numbers == 3:\n",
    "            print('There is no {} number in this building.'.format(floors_numbers))\n",
    "        if floors_numbers in self._floors_numbers:\n",
    "            print('The {} number is the floor: {}.'.format(floors_numbers, self._number_to_type_dict[floors_numbers]))\n",
    "        else:\n",
    "            print('There is no {} number in this building.'.format(floors_numbers))\n",
    "        \n",
    "    pass #Fin de la clase ascensor\n",
    "\n",
    "e1 = Elevator(floors_numbers, floor_types)\n",
    "e1.go_to_floor(2)\n",
    "\n",
    "#A = dict(zip(floor_types,floors_numbers))\n",
    "#A\n",
    "\n",
    "    "
   ]
  },
  {
   "cell_type": "code",
   "execution_count": 4,
   "metadata": {},
   "outputs": [
    {
     "name": "stdout",
     "output_type": "stream",
     "text": [
      "The 1 number is the floor: Área de restaurantes.\n"
     ]
    }
   ],
   "source": [
    "# Verify code cell 18\n",
    "el = Elevator(floors_numbers, floor_types)\n",
    "el.go_to_floor(1)"
   ]
  },
  {
   "cell_type": "code",
   "execution_count": 5,
   "metadata": {},
   "outputs": [
    {
     "name": "stdout",
     "output_type": "stream",
     "text": [
      "There is no -2 number in this building.\n"
     ]
    }
   ],
   "source": [
    "# Verify code cell 19\n",
    "el.go_to_floor(-2)"
   ]
  },
  {
   "cell_type": "code",
   "execution_count": 6,
   "metadata": {
    "scrolled": true
   },
   "outputs": [
    {
     "name": "stdout",
     "output_type": "stream",
     "text": [
      "The Oficinas floor is the number: 2.\n"
     ]
    }
   ],
   "source": [
    "# Verify code cell 20\n",
    "el.ask_which_floor('Oficinas')"
   ]
  },
  {
   "cell_type": "code",
   "execution_count": 7,
   "metadata": {},
   "outputs": [
    {
     "name": "stdout",
     "output_type": "stream",
     "text": [
      "There is no Piscina floor in this building.\n"
     ]
    }
   ],
   "source": [
    "# Verify code cell 21\n",
    "el.ask_which_floor('Piscina')"
   ]
  },
  {
   "cell_type": "markdown",
   "metadata": {},
   "source": [
    "# ¡Excelente trabajo!"
   ]
  },
  {
   "cell_type": "markdown",
   "metadata": {
    "collapsed": true
   },
   "source": [
    "<font size='0.5'>© 2017 Cisco y/o sus filiales. Todos los derechos reservados. Este documento es información pública de Cisco.<font>"
   ]
  }
 ],
 "metadata": {
  "anaconda-cloud": {},
  "kernelspec": {
   "display_name": "Python 3",
   "language": "python",
   "name": "python3"
  },
  "language_info": {
   "codemirror_mode": {
    "name": "ipython",
    "version": 3
   },
   "file_extension": ".py",
   "mimetype": "text/x-python",
   "name": "python",
   "nbconvert_exporter": "python",
   "pygments_lexer": "ipython3",
   "version": "3.7.4"
  }
 },
 "nbformat": 4,
 "nbformat_minor": 1
}
