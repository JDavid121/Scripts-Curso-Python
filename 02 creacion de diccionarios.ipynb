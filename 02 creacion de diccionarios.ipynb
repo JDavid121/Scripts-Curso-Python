{
 "cells": [
  {
   "cell_type": "markdown",
   "metadata": {},
   "source": [
    "# CREACION DE DICCIONARIOS"
   ]
  },
  {
   "cell_type": "markdown",
   "metadata": {},
   "source": [
    "Una variable diccionario es aquella en la que se guardan datos que a su vez, se encuentran asociados con otros datos."
   ]
  },
  {
   "cell_type": "markdown",
   "metadata": {},
   "source": [
    "Ejemplo"
   ]
  },
  {
   "cell_type": "code",
   "execution_count": 1,
   "metadata": {},
   "outputs": [],
   "source": [
    "automoviles={\"spark\":\"chevrolet\",\"rio\":\"kia\",\"bt50\":\"mazda\"} #Creación de la variable automoviles como tipo diccionario"
   ]
  },
  {
   "cell_type": "code",
   "execution_count": 2,
   "metadata": {},
   "outputs": [
    {
     "name": "stdout",
     "output_type": "stream",
     "text": [
      "{'spark': 'chevrolet', 'rio': 'kia', 'bt50': 'mazda'}\n"
     ]
    }
   ],
   "source": [
    "print(automoviles) # Imprimir la var automoviles"
   ]
  },
  {
   "cell_type": "code",
   "execution_count": 3,
   "metadata": {},
   "outputs": [
    {
     "data": {
      "text/plain": [
       "dict"
      ]
     },
     "execution_count": 3,
     "metadata": {},
     "output_type": "execute_result"
    }
   ],
   "source": [
    "type(automoviles) #determinar el tipo de variable automoviles"
   ]
  },
  {
   "cell_type": "markdown",
   "metadata": {},
   "source": [
    "Para acceder a un elemento especifico de una variable diccionario se lo hace con []"
   ]
  },
  {
   "cell_type": "markdown",
   "metadata": {},
   "source": [
    "Ejemplo:"
   ]
  },
  {
   "cell_type": "code",
   "execution_count": 5,
   "metadata": {},
   "outputs": [
    {
     "data": {
      "text/plain": [
       "'chevrolet'"
      ]
     },
     "execution_count": 5,
     "metadata": {},
     "output_type": "execute_result"
    }
   ],
   "source": [
    "automoviles[\"spark\"] #La variable \"spark\" ubicada en la var automoviles, está asociada con 'chevrolet'"
   ]
  },
  {
   "cell_type": "code",
   "execution_count": 6,
   "metadata": {},
   "outputs": [
    {
     "data": {
      "text/plain": [
       "'kia'"
      ]
     },
     "execution_count": 6,
     "metadata": {},
     "output_type": "execute_result"
    }
   ],
   "source": [
    "automoviles[\"rio\"] #la variable rio, ubicada en automoviles, está asociada con 'kia'"
   ]
  },
  {
   "cell_type": "code",
   "execution_count": 7,
   "metadata": {},
   "outputs": [
    {
     "data": {
      "text/plain": [
       "'mazda'"
      ]
     },
     "execution_count": 7,
     "metadata": {},
     "output_type": "execute_result"
    }
   ],
   "source": [
    "automoviles[\"bt50\"] #La variable bt50, ubicada en automoviles, está asociada con 'mazda'"
   ]
  },
  {
   "cell_type": "markdown",
   "metadata": {},
   "source": [
    "automoviles[\"spark\"]='chevrolet'"
   ]
  },
  {
   "cell_type": "markdown",
   "metadata": {},
   "source": [
    "automoviles[\"rio\"]='kia'"
   ]
  },
  {
   "cell_type": "markdown",
   "metadata": {},
   "source": [
    "automoviles[\"bt50\"]='mazda'"
   ]
  },
  {
   "cell_type": "markdown",
   "metadata": {},
   "source": [
    "Una variable diccionario puede almacenar datos asociados a su vez a otra colección de datos.\n",
    "Ejemplo:"
   ]
  },
  {
   "cell_type": "code",
   "execution_count": 10,
   "metadata": {},
   "outputs": [],
   "source": [
    "automovil={\"modelo\":[\"Spark\",  # a la var modelo, dentro de la var automovil asociamos tres valores: Spark,Cerato, Bt50\n",
    "                     \"Cerato\",\n",
    "                     \"Bt50\"\n",
    "                    ],\n",
    "           \"marca\":[\"Chevrolet\", # a la var marca, dentro de la var automovil asociamos tres valores: Chevrolet, Kia, Mazda\n",
    "                    \"Kia\",\n",
    "                    \"Mazda\"\n",
    "                   ],\n",
    "           \"año\":[\"2017\", # a la var año, dentro de la var automovil asociamos tres valores: 2017, 2018, 2019\n",
    "                  \"2018\",\n",
    "                 \"2019\"\n",
    "                 ]\n",
    "          }"
   ]
  },
  {
   "cell_type": "code",
   "execution_count": 11,
   "metadata": {},
   "outputs": [
    {
     "name": "stdout",
     "output_type": "stream",
     "text": [
      "{'modelo': ['Spark', 'Cerato', 'Bt50'], 'marca': ['Chevrolet', 'Kia', 'Mazda'], 'año': ['2017', '2018', '2019']}\n"
     ]
    }
   ],
   "source": [
    "print(automovil) #Imprimimos la variable automovil"
   ]
  },
  {
   "cell_type": "markdown",
   "metadata": {},
   "source": [
    "Se puede apuntar al valor de una variable diccionario utilizando los []"
   ]
  },
  {
   "cell_type": "markdown",
   "metadata": {},
   "source": [
    "Ejemplo:"
   ]
  },
  {
   "cell_type": "code",
   "execution_count": 12,
   "metadata": {},
   "outputs": [
    {
     "data": {
      "text/plain": [
       "'Spark'"
      ]
     },
     "execution_count": 12,
     "metadata": {},
     "output_type": "execute_result"
    }
   ],
   "source": [
    "automovil[\"modelo\"][0] #Ubicamos el valor de la var automovil, correspondiente a la var \"modelo\", correspondiente a la posición [0]"
   ]
  },
  {
   "cell_type": "markdown",
   "metadata": {},
   "source": [
    "automovil[\"modelo\"][0]='Spark'"
   ]
  },
  {
   "cell_type": "code",
   "execution_count": 13,
   "metadata": {},
   "outputs": [
    {
     "data": {
      "text/plain": [
       "'Cerato'"
      ]
     },
     "execution_count": 13,
     "metadata": {},
     "output_type": "execute_result"
    }
   ],
   "source": [
    "automovil[\"modelo\"][1] #Ub valor var automovil, correspondiente a var \"modelo\", correspondiente a la posicion [1]"
   ]
  },
  {
   "cell_type": "markdown",
   "metadata": {},
   "source": [
    "automovil[\"modelo\"][1]='Cerato'"
   ]
  },
  {
   "cell_type": "code",
   "execution_count": 15,
   "metadata": {},
   "outputs": [
    {
     "data": {
      "text/plain": [
       "'Bt50'"
      ]
     },
     "execution_count": 15,
     "metadata": {},
     "output_type": "execute_result"
    }
   ],
   "source": [
    "automovil[\"modelo\"][2] #determinamos valor var automovil, correspondiente a var \"modelo\", correspondiente a posicion [2]"
   ]
  },
  {
   "cell_type": "code",
   "execution_count": 16,
   "metadata": {},
   "outputs": [
    {
     "data": {
      "text/plain": [
       "['Chevrolet', 'Kia', 'Mazda']"
      ]
     },
     "execution_count": 16,
     "metadata": {},
     "output_type": "execute_result"
    }
   ],
   "source": [
    "automovil[\"marca\"] #vemos las marcas detalladas en la var automovil"
   ]
  },
  {
   "cell_type": "code",
   "execution_count": 17,
   "metadata": {},
   "outputs": [
    {
     "data": {
      "text/plain": [
       "['2017', '2018', '2019']"
      ]
     },
     "execution_count": 17,
     "metadata": {},
     "output_type": "execute_result"
    }
   ],
   "source": [
    "automovil [\"año\"] #vemos las var almacenadas en la var automovil, ubicación \"año\""
   ]
  },
  {
   "cell_type": "code",
   "execution_count": 18,
   "metadata": {},
   "outputs": [
    {
     "data": {
      "text/plain": [
       "'2017'"
      ]
     },
     "execution_count": 18,
     "metadata": {},
     "output_type": "execute_result"
    }
   ],
   "source": [
    "automovil[\"año\"][0] #Determinamos el valor de la var automovil, ubicación \"año\", ubicación [0]"
   ]
  },
  {
   "cell_type": "markdown",
   "metadata": {},
   "source": [
    "Finalmente, podemos concatenar valores de una misma variable"
   ]
  },
  {
   "cell_type": "code",
   "execution_count": 19,
   "metadata": {},
   "outputs": [],
   "source": [
    "espacio=\" \" #Creación de var espacio para concatenación"
   ]
  },
  {
   "cell_type": "code",
   "execution_count": 20,
   "metadata": {},
   "outputs": [
    {
     "name": "stdout",
     "output_type": "stream",
     "text": [
      "{'modelo': ['Spark', 'Cerato', 'Bt50'], 'marca': ['Chevrolet', 'Kia', 'Mazda'], 'año': ['2017', '2018', '2019']}\n"
     ]
    }
   ],
   "source": [
    "print(automovil) #referencia para la concatenación"
   ]
  },
  {
   "cell_type": "code",
   "execution_count": 24,
   "metadata": {},
   "outputs": [],
   "source": [
    "#Concatenación de datos de la var diccionario\n",
    "texto1=automovil[\"modelo\"][0]+espacio+automovil[\"marca\"][0]+espacio+automovil[\"año\"][0]"
   ]
  },
  {
   "cell_type": "code",
   "execution_count": 25,
   "metadata": {},
   "outputs": [
    {
     "data": {
      "text/plain": [
       "str"
      ]
     },
     "execution_count": 25,
     "metadata": {},
     "output_type": "execute_result"
    }
   ],
   "source": [
    "type(texto1) #determinar el tipo de var texto1"
   ]
  },
  {
   "cell_type": "code",
   "execution_count": 26,
   "metadata": {},
   "outputs": [
    {
     "name": "stdout",
     "output_type": "stream",
     "text": [
      "Spark Chevrolet 2017\n"
     ]
    }
   ],
   "source": [
    "print(texto1) #Impresión de la var texto"
   ]
  },
  {
   "cell_type": "markdown",
   "metadata": {},
   "source": [
    "Ejercicio: Dada la var automovil, realizar las 27 concatenaciones"
   ]
  },
  {
   "cell_type": "code",
   "execution_count": 27,
   "metadata": {},
   "outputs": [
    {
     "name": "stdout",
     "output_type": "stream",
     "text": [
      "Spark Chevrolet 2017\n"
     ]
    }
   ],
   "source": [
    "#Concatenación de datos de la var diccionario\n",
    "texto0=automovil[\"modelo\"][0]+espacio+automovil[\"marca\"][0]+espacio+automovil[\"año\"][0]\n",
    "print(texto0)"
   ]
  },
  {
   "cell_type": "code",
   "execution_count": 28,
   "metadata": {},
   "outputs": [
    {
     "name": "stdout",
     "output_type": "stream",
     "text": [
      "Spark Chevrolet 2018\n"
     ]
    }
   ],
   "source": [
    "#Concatenación de datos de la var diccionario\n",
    "texto1=automovil[\"modelo\"][0]+espacio+automovil[\"marca\"][0]+espacio+automovil[\"año\"][1]\n",
    "print(texto1)"
   ]
  },
  {
   "cell_type": "code",
   "execution_count": 29,
   "metadata": {},
   "outputs": [
    {
     "name": "stdout",
     "output_type": "stream",
     "text": [
      "Spark Chevrolet 2019\n"
     ]
    }
   ],
   "source": [
    "#Concatenación de datos de la var diccionario\n",
    "texto2=automovil[\"modelo\"][0]+espacio+automovil[\"marca\"][0]+espacio+automovil[\"año\"][2]\n",
    "print(texto2)"
   ]
  },
  {
   "cell_type": "code",
   "execution_count": 30,
   "metadata": {},
   "outputs": [
    {
     "name": "stdout",
     "output_type": "stream",
     "text": [
      "Spark Kia 2017\n"
     ]
    }
   ],
   "source": [
    "#Concatenación de datos de la var diccionario\n",
    "texto3=automovil[\"modelo\"][0]+espacio+automovil[\"marca\"][1]+espacio+automovil[\"año\"][0]\n",
    "print(texto3)"
   ]
  },
  {
   "cell_type": "code",
   "execution_count": 31,
   "metadata": {},
   "outputs": [
    {
     "name": "stdout",
     "output_type": "stream",
     "text": [
      "Spark Kia 2018\n"
     ]
    }
   ],
   "source": [
    "#Concatenación de datos de la var diccionario\n",
    "texto4=automovil[\"modelo\"][0]+espacio+automovil[\"marca\"][1]+espacio+automovil[\"año\"][1]\n",
    "print(texto4)"
   ]
  },
  {
   "cell_type": "code",
   "execution_count": 32,
   "metadata": {},
   "outputs": [
    {
     "name": "stdout",
     "output_type": "stream",
     "text": [
      "Spark Kia 2019\n"
     ]
    }
   ],
   "source": [
    "#Concatenación de datos de la var diccionario\n",
    "texto5=automovil[\"modelo\"][0]+espacio+automovil[\"marca\"][1]+espacio+automovil[\"año\"][2]\n",
    "print(texto5)"
   ]
  },
  {
   "cell_type": "code",
   "execution_count": 33,
   "metadata": {},
   "outputs": [
    {
     "name": "stdout",
     "output_type": "stream",
     "text": [
      "Spark Mazda 2017\n"
     ]
    }
   ],
   "source": [
    "#Concatenación de datos de la var diccionario\n",
    "texto6=automovil[\"modelo\"][0]+espacio+automovil[\"marca\"][2]+espacio+automovil[\"año\"][0]\n",
    "print(texto6)"
   ]
  },
  {
   "cell_type": "code",
   "execution_count": 34,
   "metadata": {},
   "outputs": [
    {
     "name": "stdout",
     "output_type": "stream",
     "text": [
      "Spark Mazda 2018\n"
     ]
    }
   ],
   "source": [
    "#Concatenación de datos de la var diccionario\n",
    "texto7=automovil[\"modelo\"][0]+espacio+automovil[\"marca\"][2]+espacio+automovil[\"año\"][1]\n",
    "print(texto7)"
   ]
  },
  {
   "cell_type": "code",
   "execution_count": 35,
   "metadata": {},
   "outputs": [
    {
     "name": "stdout",
     "output_type": "stream",
     "text": [
      "Spark Mazda 2019\n"
     ]
    }
   ],
   "source": [
    "#Concatenación de datos de la var diccionario\n",
    "texto8=automovil[\"modelo\"][0]+espacio+automovil[\"marca\"][2]+espacio+automovil[\"año\"][2]\n",
    "print(texto8)"
   ]
  },
  {
   "cell_type": "code",
   "execution_count": 36,
   "metadata": {},
   "outputs": [
    {
     "name": "stdout",
     "output_type": "stream",
     "text": [
      "Cerato Chevrolet 2017\n"
     ]
    }
   ],
   "source": [
    "#Concatenación de datos de la var diccionario\n",
    "texto9=automovil[\"modelo\"][1]+espacio+automovil[\"marca\"][0]+espacio+automovil[\"año\"][0]\n",
    "print(texto9)"
   ]
  },
  {
   "cell_type": "code",
   "execution_count": 37,
   "metadata": {},
   "outputs": [
    {
     "name": "stdout",
     "output_type": "stream",
     "text": [
      "Cerato Chevrolet 2018\n"
     ]
    }
   ],
   "source": [
    "#Concatenación de datos de la var diccionario\n",
    "texto10=automovil[\"modelo\"][1]+espacio+automovil[\"marca\"][0]+espacio+automovil[\"año\"][1]\n",
    "print(texto10)"
   ]
  },
  {
   "cell_type": "code",
   "execution_count": 38,
   "metadata": {},
   "outputs": [
    {
     "name": "stdout",
     "output_type": "stream",
     "text": [
      "Cerato Chevrolet 2019\n"
     ]
    }
   ],
   "source": [
    "#Concatenación de datos de la var diccionario\n",
    "texto11=automovil[\"modelo\"][1]+espacio+automovil[\"marca\"][0]+espacio+automovil[\"año\"][2]\n",
    "print(texto11)"
   ]
  },
  {
   "cell_type": "code",
   "execution_count": 39,
   "metadata": {},
   "outputs": [
    {
     "name": "stdout",
     "output_type": "stream",
     "text": [
      "Cerato Kia 2017\n"
     ]
    }
   ],
   "source": [
    "#Concatenación de datos de la var diccionario\n",
    "texto12=automovil[\"modelo\"][1]+espacio+automovil[\"marca\"][1]+espacio+automovil[\"año\"][0]\n",
    "print(texto12)"
   ]
  },
  {
   "cell_type": "code",
   "execution_count": 40,
   "metadata": {},
   "outputs": [
    {
     "name": "stdout",
     "output_type": "stream",
     "text": [
      "Cerato Kia 2018\n"
     ]
    }
   ],
   "source": [
    "#Concatenación de datos de la var diccionario\n",
    "texto13=automovil[\"modelo\"][1]+espacio+automovil[\"marca\"][1]+espacio+automovil[\"año\"][1]\n",
    "print(texto13)"
   ]
  },
  {
   "cell_type": "code",
   "execution_count": 41,
   "metadata": {},
   "outputs": [
    {
     "name": "stdout",
     "output_type": "stream",
     "text": [
      "Cerato Kia 2019\n"
     ]
    }
   ],
   "source": [
    "#Concatenación de datos de la var diccionario\n",
    "texto14=automovil[\"modelo\"][1]+espacio+automovil[\"marca\"][1]+espacio+automovil[\"año\"][2]\n",
    "print(texto14)"
   ]
  },
  {
   "cell_type": "code",
   "execution_count": 51,
   "metadata": {},
   "outputs": [
    {
     "name": "stdout",
     "output_type": "stream",
     "text": [
      "Cerato Mazda 2017\n"
     ]
    }
   ],
   "source": [
    "#Concatenación de datos de la var diccionario\n",
    "texto15=automovil[\"modelo\"][1]+espacio+automovil[\"marca\"][2]+espacio+automovil[\"año\"][0]\n",
    "print(texto15)"
   ]
  },
  {
   "cell_type": "code",
   "execution_count": 52,
   "metadata": {},
   "outputs": [
    {
     "name": "stdout",
     "output_type": "stream",
     "text": [
      "Cerato Mazda 2018\n"
     ]
    }
   ],
   "source": [
    "#Concatenación de datos de la var diccionario\n",
    "texto16=automovil[\"modelo\"][1]+espacio+automovil[\"marca\"][2]+espacio+automovil[\"año\"][1]\n",
    "print(texto16)"
   ]
  },
  {
   "cell_type": "code",
   "execution_count": 53,
   "metadata": {},
   "outputs": [
    {
     "name": "stdout",
     "output_type": "stream",
     "text": [
      "Cerato Mazda 2019\n"
     ]
    }
   ],
   "source": [
    "#Concatenación de datos de la var diccionario\n",
    "texto17=automovil[\"modelo\"][1]+espacio+automovil[\"marca\"][2]+espacio+automovil[\"año\"][2]\n",
    "print(texto17)"
   ]
  },
  {
   "cell_type": "code",
   "execution_count": 54,
   "metadata": {},
   "outputs": [
    {
     "name": "stdout",
     "output_type": "stream",
     "text": [
      "Bt50 Chevrolet 2017\n"
     ]
    }
   ],
   "source": [
    "#Concatenación de datos de la var diccionario\n",
    "texto18=automovil[\"modelo\"][2]+espacio+automovil[\"marca\"][0]+espacio+automovil[\"año\"][0]\n",
    "print(texto18)"
   ]
  },
  {
   "cell_type": "code",
   "execution_count": 55,
   "metadata": {},
   "outputs": [
    {
     "name": "stdout",
     "output_type": "stream",
     "text": [
      "Bt50 Chevrolet 2018\n"
     ]
    }
   ],
   "source": [
    "#Concatenación de datos de la var diccionario\n",
    "texto19=automovil[\"modelo\"][2]+espacio+automovil[\"marca\"][0]+espacio+automovil[\"año\"][1]\n",
    "print(texto19)"
   ]
  },
  {
   "cell_type": "code",
   "execution_count": 56,
   "metadata": {},
   "outputs": [
    {
     "name": "stdout",
     "output_type": "stream",
     "text": [
      "Bt50 Chevrolet 2019\n"
     ]
    }
   ],
   "source": [
    "#Concatenación de datos de la var diccionario\n",
    "texto20=automovil[\"modelo\"][2]+espacio+automovil[\"marca\"][0]+espacio+automovil[\"año\"][2]\n",
    "print(texto20)"
   ]
  },
  {
   "cell_type": "code",
   "execution_count": 57,
   "metadata": {},
   "outputs": [
    {
     "name": "stdout",
     "output_type": "stream",
     "text": [
      "Bt50 Kia 2017\n"
     ]
    }
   ],
   "source": [
    "#Concatenación de datos de la var diccionario\n",
    "texto21=automovil[\"modelo\"][2]+espacio+automovil[\"marca\"][1]+espacio+automovil[\"año\"][0]\n",
    "print(texto21)#Concatenación de datos de la var diccionario"
   ]
  },
  {
   "cell_type": "code",
   "execution_count": 58,
   "metadata": {},
   "outputs": [
    {
     "name": "stdout",
     "output_type": "stream",
     "text": [
      "Bt50 Kia 2018\n"
     ]
    }
   ],
   "source": [
    "#Concatenación de datos de la var diccionario\n",
    "texto22=automovil[\"modelo\"][2]+espacio+automovil[\"marca\"][1]+espacio+automovil[\"año\"][1]\n",
    "print(texto22)#Concatenación de datos de la var diccionario"
   ]
  },
  {
   "cell_type": "code",
   "execution_count": 59,
   "metadata": {},
   "outputs": [
    {
     "name": "stdout",
     "output_type": "stream",
     "text": [
      "Bt50 Kia 2019\n"
     ]
    }
   ],
   "source": [
    "#Concatenación de datos de la var diccionario\n",
    "texto23=automovil[\"modelo\"][2]+espacio+automovil[\"marca\"][1]+espacio+automovil[\"año\"][2]\n",
    "print(texto23)#Concatenación de datos de la var diccionario"
   ]
  },
  {
   "cell_type": "code",
   "execution_count": 60,
   "metadata": {},
   "outputs": [
    {
     "name": "stdout",
     "output_type": "stream",
     "text": [
      "Bt50 Mazda 2017\n"
     ]
    }
   ],
   "source": [
    "#Concatenación de datos de la var diccionario\n",
    "texto24=automovil[\"modelo\"][2]+espacio+automovil[\"marca\"][2]+espacio+automovil[\"año\"][0]\n",
    "print(texto24)#Concatenación de datos de la var diccionario"
   ]
  },
  {
   "cell_type": "code",
   "execution_count": 61,
   "metadata": {},
   "outputs": [
    {
     "name": "stdout",
     "output_type": "stream",
     "text": [
      "Bt50 Mazda 2018\n"
     ]
    }
   ],
   "source": [
    "#Concatenación de datos de la var diccionario\n",
    "texto25=automovil[\"modelo\"][2]+espacio+automovil[\"marca\"][2]+espacio+automovil[\"año\"][1]\n",
    "print(texto25)#Concatenación de datos de la var diccionario"
   ]
  },
  {
   "cell_type": "code",
   "execution_count": 62,
   "metadata": {},
   "outputs": [
    {
     "name": "stdout",
     "output_type": "stream",
     "text": [
      "Bt50 Mazda 2019\n"
     ]
    }
   ],
   "source": [
    "#Concatenación de datos de la var diccionario\n",
    "texto26=automovil[\"modelo\"][2]+espacio+automovil[\"marca\"][2]+espacio+automovil[\"año\"][2]\n",
    "print(texto26)"
   ]
  },
  {
   "cell_type": "code",
   "execution_count": 63,
   "metadata": {},
   "outputs": [
    {
     "name": "stdout",
     "output_type": "stream",
     "text": [
      "Spark Chevrolet 2017\n",
      "Spark Chevrolet 2018\n",
      "Spark Chevrolet 2019\n",
      "Spark Kia 2017\n",
      "Spark Kia 2018\n",
      "Spark Kia 2019\n",
      "Spark Mazda 2017\n",
      "Spark Mazda 2018\n",
      "Spark Mazda 2019\n",
      "Cerato Chevrolet 2017\n",
      "Cerato Chevrolet 2018\n",
      "Cerato Chevrolet 2019\n",
      "Cerato Kia 2017\n",
      "Cerato Kia 2018\n",
      "Cerato Kia 2019\n",
      "Cerato Mazda 2017\n",
      "Cerato Mazda 2018\n",
      "Cerato Mazda 2019\n",
      "Bt50 Chevrolet 2017\n",
      "Bt50 Chevrolet 2018\n",
      "Bt50 Chevrolet 2019\n",
      "Bt50 Kia 2017\n",
      "Bt50 Kia 2018\n",
      "Bt50 Kia 2019\n",
      "Bt50 Mazda 2017\n",
      "Bt50 Mazda 2018\n",
      "Bt50 Mazda 2019\n"
     ]
    }
   ],
   "source": [
    "print(texto0)\n",
    "print(texto1)\n",
    "print(texto2)\n",
    "print(texto3)\n",
    "print(texto4)\n",
    "print(texto5)\n",
    "print(texto6)\n",
    "print(texto7)\n",
    "print(texto8)\n",
    "print(texto9)\n",
    "print(texto10)\n",
    "print(texto11)\n",
    "print(texto12)\n",
    "print(texto13)\n",
    "print(texto14)\n",
    "print(texto15)\n",
    "print(texto16)\n",
    "print(texto17)\n",
    "print(texto18)\n",
    "print(texto19)\n",
    "print(texto20)\n",
    "print(texto21)\n",
    "print(texto22)\n",
    "print(texto23)\n",
    "print(texto24)\n",
    "print(texto25)\n",
    "print(texto26)\n",
    "\n",
    "\n"
   ]
  },
  {
   "cell_type": "code",
   "execution_count": null,
   "metadata": {},
   "outputs": [],
   "source": []
  }
 ],
 "metadata": {
  "kernelspec": {
   "display_name": "Python 3",
   "language": "python",
   "name": "python3"
  },
  "language_info": {
   "codemirror_mode": {
    "name": "ipython",
    "version": 3
   },
   "file_extension": ".py",
   "mimetype": "text/x-python",
   "name": "python",
   "nbconvert_exporter": "python",
   "pygments_lexer": "ipython3",
   "version": "3.7.4"
  }
 },
 "nbformat": 4,
 "nbformat_minor": 2
}
